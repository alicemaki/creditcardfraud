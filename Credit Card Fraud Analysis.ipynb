{
 "cells": [
  {
   "cell_type": "markdown",
   "id": "625d14ad",
   "metadata": {},
   "source": [
    "# Credit Card Fraud Detection Analysis"
   ]
  },
  {
   "cell_type": "markdown",
   "id": "0a8c951b",
   "metadata": {},
   "source": [
    "The purpose of this project is to find the best method to detect credit card fraud for customers to avoid getting charged for items they did not purchase. This dataset was originated from credit card transactions in September 2013 by European cardholders. The source of this dataset is from Kaggle and the numerical input variables are the result of a PCA transformation. The original features and background information about the data are not provided due to confidentiality. The Time and Amount features were not transformed. For the Class variable, it's the target variable where 1 is for fraud and 0 otherwise."
   ]
  },
  {
   "cell_type": "code",
   "execution_count": 2,
   "id": "75d8d33b",
   "metadata": {},
   "outputs": [],
   "source": [
    "# Load packages\n",
    "import pandas as pd\n",
    "import numpy as np\n",
    "import matplotlib.pyplot as plt\n",
    "%matplotlib inline\n",
    "import seaborn as sns\n",
    "from sklearn.preprocessing import StandardScaler\n",
    "from sklearn.model_selection import train_test_split, GridSearchCV\n",
    "from sklearn.ensemble import RandomForestClassifier\n",
    "from sklearn.metrics import accuracy_score, confusion_matrix, plot_confusion_matrix, precision_score, recall_score, f1_score\n",
    "from sklearn.neural_network import MLPClassifier\n",
    "from imblearn.over_sampling import SMOTE\n",
    "from imblearn.under_sampling import RandomUnderSampler\n",
    "from imblearn.pipeline import Pipeline\n",
    "from collections import Counter\n",
    "import xgboost as xgb"
   ]
  },
  {
   "cell_type": "code",
   "execution_count": 20,
   "id": "3610efff",
   "metadata": {},
   "outputs": [],
   "source": [
    "# Read in dataset\n",
    "creditcarddata = pd.read_csv('creditcard.csv')"
   ]
  },
  {
   "cell_type": "markdown",
   "id": "c466f2bc",
   "metadata": {},
   "source": [
    "## Exploratory Data Analysis/Feature Engineering"
   ]
  },
  {
   "cell_type": "markdown",
   "id": "0d90c276",
   "metadata": {},
   "source": [
    "* The Time feature is the seconds elapsed between each transaction and the first transaction in the dataset. \n",
    "* The Amount feature is the transaction amount. \n",
    "* There are duplicates in the data, therefore, we will remove those rows to avoid misleading information. \n",
    "* We scale the Time and Amount features to bring them to the same level of magnitudes.\n",
    "* We check for multicollinearity with our correlation chart and proceed with our analysis since there seems to be no strong associations.\n",
    "* We check for class imbalance since there would be very few fraud cases in general."
   ]
  },
  {
   "cell_type": "code",
   "execution_count": 21,
   "id": "6f25f942",
   "metadata": {},
   "outputs": [
    {
     "data": {
      "text/html": [
       "<div>\n",
       "<style scoped>\n",
       "    .dataframe tbody tr th:only-of-type {\n",
       "        vertical-align: middle;\n",
       "    }\n",
       "\n",
       "    .dataframe tbody tr th {\n",
       "        vertical-align: top;\n",
       "    }\n",
       "\n",
       "    .dataframe thead th {\n",
       "        text-align: right;\n",
       "    }\n",
       "</style>\n",
       "<table border=\"1\" class=\"dataframe\">\n",
       "  <thead>\n",
       "    <tr style=\"text-align: right;\">\n",
       "      <th></th>\n",
       "      <th>Time</th>\n",
       "      <th>V1</th>\n",
       "      <th>V2</th>\n",
       "      <th>V3</th>\n",
       "      <th>V4</th>\n",
       "      <th>V5</th>\n",
       "      <th>V6</th>\n",
       "      <th>V7</th>\n",
       "      <th>V8</th>\n",
       "      <th>V9</th>\n",
       "      <th>V10</th>\n",
       "      <th>V11</th>\n",
       "      <th>V12</th>\n",
       "      <th>V13</th>\n",
       "      <th>V14</th>\n",
       "      <th>V15</th>\n",
       "      <th>V16</th>\n",
       "      <th>V17</th>\n",
       "      <th>V18</th>\n",
       "      <th>V19</th>\n",
       "      <th>V20</th>\n",
       "      <th>V21</th>\n",
       "      <th>V22</th>\n",
       "      <th>V23</th>\n",
       "      <th>V24</th>\n",
       "      <th>V25</th>\n",
       "      <th>V26</th>\n",
       "      <th>V27</th>\n",
       "      <th>V28</th>\n",
       "      <th>Amount</th>\n",
       "      <th>Class</th>\n",
       "    </tr>\n",
       "  </thead>\n",
       "  <tbody>\n",
       "    <tr>\n",
       "      <th>0</th>\n",
       "      <td>0.0</td>\n",
       "      <td>-1.359807</td>\n",
       "      <td>-0.072781</td>\n",
       "      <td>2.536347</td>\n",
       "      <td>1.378155</td>\n",
       "      <td>-0.338321</td>\n",
       "      <td>0.462388</td>\n",
       "      <td>0.239599</td>\n",
       "      <td>0.098698</td>\n",
       "      <td>0.363787</td>\n",
       "      <td>0.090794</td>\n",
       "      <td>-0.551600</td>\n",
       "      <td>-0.617801</td>\n",
       "      <td>-0.991390</td>\n",
       "      <td>-0.311169</td>\n",
       "      <td>1.468177</td>\n",
       "      <td>-0.470401</td>\n",
       "      <td>0.207971</td>\n",
       "      <td>0.025791</td>\n",
       "      <td>0.403993</td>\n",
       "      <td>0.251412</td>\n",
       "      <td>-0.018307</td>\n",
       "      <td>0.277838</td>\n",
       "      <td>-0.110474</td>\n",
       "      <td>0.066928</td>\n",
       "      <td>0.128539</td>\n",
       "      <td>-0.189115</td>\n",
       "      <td>0.133558</td>\n",
       "      <td>-0.021053</td>\n",
       "      <td>149.62</td>\n",
       "      <td>0</td>\n",
       "    </tr>\n",
       "    <tr>\n",
       "      <th>1</th>\n",
       "      <td>0.0</td>\n",
       "      <td>1.191857</td>\n",
       "      <td>0.266151</td>\n",
       "      <td>0.166480</td>\n",
       "      <td>0.448154</td>\n",
       "      <td>0.060018</td>\n",
       "      <td>-0.082361</td>\n",
       "      <td>-0.078803</td>\n",
       "      <td>0.085102</td>\n",
       "      <td>-0.255425</td>\n",
       "      <td>-0.166974</td>\n",
       "      <td>1.612727</td>\n",
       "      <td>1.065235</td>\n",
       "      <td>0.489095</td>\n",
       "      <td>-0.143772</td>\n",
       "      <td>0.635558</td>\n",
       "      <td>0.463917</td>\n",
       "      <td>-0.114805</td>\n",
       "      <td>-0.183361</td>\n",
       "      <td>-0.145783</td>\n",
       "      <td>-0.069083</td>\n",
       "      <td>-0.225775</td>\n",
       "      <td>-0.638672</td>\n",
       "      <td>0.101288</td>\n",
       "      <td>-0.339846</td>\n",
       "      <td>0.167170</td>\n",
       "      <td>0.125895</td>\n",
       "      <td>-0.008983</td>\n",
       "      <td>0.014724</td>\n",
       "      <td>2.69</td>\n",
       "      <td>0</td>\n",
       "    </tr>\n",
       "    <tr>\n",
       "      <th>2</th>\n",
       "      <td>1.0</td>\n",
       "      <td>-1.358354</td>\n",
       "      <td>-1.340163</td>\n",
       "      <td>1.773209</td>\n",
       "      <td>0.379780</td>\n",
       "      <td>-0.503198</td>\n",
       "      <td>1.800499</td>\n",
       "      <td>0.791461</td>\n",
       "      <td>0.247676</td>\n",
       "      <td>-1.514654</td>\n",
       "      <td>0.207643</td>\n",
       "      <td>0.624501</td>\n",
       "      <td>0.066084</td>\n",
       "      <td>0.717293</td>\n",
       "      <td>-0.165946</td>\n",
       "      <td>2.345865</td>\n",
       "      <td>-2.890083</td>\n",
       "      <td>1.109969</td>\n",
       "      <td>-0.121359</td>\n",
       "      <td>-2.261857</td>\n",
       "      <td>0.524980</td>\n",
       "      <td>0.247998</td>\n",
       "      <td>0.771679</td>\n",
       "      <td>0.909412</td>\n",
       "      <td>-0.689281</td>\n",
       "      <td>-0.327642</td>\n",
       "      <td>-0.139097</td>\n",
       "      <td>-0.055353</td>\n",
       "      <td>-0.059752</td>\n",
       "      <td>378.66</td>\n",
       "      <td>0</td>\n",
       "    </tr>\n",
       "    <tr>\n",
       "      <th>3</th>\n",
       "      <td>1.0</td>\n",
       "      <td>-0.966272</td>\n",
       "      <td>-0.185226</td>\n",
       "      <td>1.792993</td>\n",
       "      <td>-0.863291</td>\n",
       "      <td>-0.010309</td>\n",
       "      <td>1.247203</td>\n",
       "      <td>0.237609</td>\n",
       "      <td>0.377436</td>\n",
       "      <td>-1.387024</td>\n",
       "      <td>-0.054952</td>\n",
       "      <td>-0.226487</td>\n",
       "      <td>0.178228</td>\n",
       "      <td>0.507757</td>\n",
       "      <td>-0.287924</td>\n",
       "      <td>-0.631418</td>\n",
       "      <td>-1.059647</td>\n",
       "      <td>-0.684093</td>\n",
       "      <td>1.965775</td>\n",
       "      <td>-1.232622</td>\n",
       "      <td>-0.208038</td>\n",
       "      <td>-0.108300</td>\n",
       "      <td>0.005274</td>\n",
       "      <td>-0.190321</td>\n",
       "      <td>-1.175575</td>\n",
       "      <td>0.647376</td>\n",
       "      <td>-0.221929</td>\n",
       "      <td>0.062723</td>\n",
       "      <td>0.061458</td>\n",
       "      <td>123.50</td>\n",
       "      <td>0</td>\n",
       "    </tr>\n",
       "    <tr>\n",
       "      <th>4</th>\n",
       "      <td>2.0</td>\n",
       "      <td>-1.158233</td>\n",
       "      <td>0.877737</td>\n",
       "      <td>1.548718</td>\n",
       "      <td>0.403034</td>\n",
       "      <td>-0.407193</td>\n",
       "      <td>0.095921</td>\n",
       "      <td>0.592941</td>\n",
       "      <td>-0.270533</td>\n",
       "      <td>0.817739</td>\n",
       "      <td>0.753074</td>\n",
       "      <td>-0.822843</td>\n",
       "      <td>0.538196</td>\n",
       "      <td>1.345852</td>\n",
       "      <td>-1.119670</td>\n",
       "      <td>0.175121</td>\n",
       "      <td>-0.451449</td>\n",
       "      <td>-0.237033</td>\n",
       "      <td>-0.038195</td>\n",
       "      <td>0.803487</td>\n",
       "      <td>0.408542</td>\n",
       "      <td>-0.009431</td>\n",
       "      <td>0.798278</td>\n",
       "      <td>-0.137458</td>\n",
       "      <td>0.141267</td>\n",
       "      <td>-0.206010</td>\n",
       "      <td>0.502292</td>\n",
       "      <td>0.219422</td>\n",
       "      <td>0.215153</td>\n",
       "      <td>69.99</td>\n",
       "      <td>0</td>\n",
       "    </tr>\n",
       "  </tbody>\n",
       "</table>\n",
       "</div>"
      ],
      "text/plain": [
       "   Time        V1        V2        V3        V4        V5        V6        V7  \\\n",
       "0   0.0 -1.359807 -0.072781  2.536347  1.378155 -0.338321  0.462388  0.239599   \n",
       "1   0.0  1.191857  0.266151  0.166480  0.448154  0.060018 -0.082361 -0.078803   \n",
       "2   1.0 -1.358354 -1.340163  1.773209  0.379780 -0.503198  1.800499  0.791461   \n",
       "3   1.0 -0.966272 -0.185226  1.792993 -0.863291 -0.010309  1.247203  0.237609   \n",
       "4   2.0 -1.158233  0.877737  1.548718  0.403034 -0.407193  0.095921  0.592941   \n",
       "\n",
       "         V8        V9       V10       V11       V12       V13       V14  \\\n",
       "0  0.098698  0.363787  0.090794 -0.551600 -0.617801 -0.991390 -0.311169   \n",
       "1  0.085102 -0.255425 -0.166974  1.612727  1.065235  0.489095 -0.143772   \n",
       "2  0.247676 -1.514654  0.207643  0.624501  0.066084  0.717293 -0.165946   \n",
       "3  0.377436 -1.387024 -0.054952 -0.226487  0.178228  0.507757 -0.287924   \n",
       "4 -0.270533  0.817739  0.753074 -0.822843  0.538196  1.345852 -1.119670   \n",
       "\n",
       "        V15       V16       V17       V18       V19       V20       V21  \\\n",
       "0  1.468177 -0.470401  0.207971  0.025791  0.403993  0.251412 -0.018307   \n",
       "1  0.635558  0.463917 -0.114805 -0.183361 -0.145783 -0.069083 -0.225775   \n",
       "2  2.345865 -2.890083  1.109969 -0.121359 -2.261857  0.524980  0.247998   \n",
       "3 -0.631418 -1.059647 -0.684093  1.965775 -1.232622 -0.208038 -0.108300   \n",
       "4  0.175121 -0.451449 -0.237033 -0.038195  0.803487  0.408542 -0.009431   \n",
       "\n",
       "        V22       V23       V24       V25       V26       V27       V28  \\\n",
       "0  0.277838 -0.110474  0.066928  0.128539 -0.189115  0.133558 -0.021053   \n",
       "1 -0.638672  0.101288 -0.339846  0.167170  0.125895 -0.008983  0.014724   \n",
       "2  0.771679  0.909412 -0.689281 -0.327642 -0.139097 -0.055353 -0.059752   \n",
       "3  0.005274 -0.190321 -1.175575  0.647376 -0.221929  0.062723  0.061458   \n",
       "4  0.798278 -0.137458  0.141267 -0.206010  0.502292  0.219422  0.215153   \n",
       "\n",
       "   Amount  Class  \n",
       "0  149.62      0  \n",
       "1    2.69      0  \n",
       "2  378.66      0  \n",
       "3  123.50      0  \n",
       "4   69.99      0  "
      ]
     },
     "execution_count": 21,
     "metadata": {},
     "output_type": "execute_result"
    }
   ],
   "source": [
    "# Checking the first 5 rows of the data\n",
    "pd.set_option('display.max_columns', None)\n",
    "creditcarddata.head()"
   ]
  },
  {
   "cell_type": "code",
   "execution_count": 22,
   "id": "4bb1f318",
   "metadata": {},
   "outputs": [
    {
     "data": {
      "text/plain": [
       "(284807, 31)"
      ]
     },
     "execution_count": 22,
     "metadata": {},
     "output_type": "execute_result"
    }
   ],
   "source": [
    "# Dimensions of the dataset\n",
    "creditcarddata.shape"
   ]
  },
  {
   "cell_type": "code",
   "execution_count": 23,
   "id": "78d4560d",
   "metadata": {},
   "outputs": [
    {
     "data": {
      "text/plain": [
       "0"
      ]
     },
     "execution_count": 23,
     "metadata": {},
     "output_type": "execute_result"
    }
   ],
   "source": [
    "# Checking if there are any nulls\n",
    "creditcarddata.isnull().sum().max()"
   ]
  },
  {
   "cell_type": "code",
   "execution_count": 24,
   "id": "e662ae03",
   "metadata": {},
   "outputs": [
    {
     "name": "stdout",
     "output_type": "stream",
     "text": [
      "<class 'pandas.core.frame.DataFrame'>\n",
      "RangeIndex: 284807 entries, 0 to 284806\n",
      "Data columns (total 31 columns):\n",
      " #   Column  Non-Null Count   Dtype  \n",
      "---  ------  --------------   -----  \n",
      " 0   Time    284807 non-null  float64\n",
      " 1   V1      284807 non-null  float64\n",
      " 2   V2      284807 non-null  float64\n",
      " 3   V3      284807 non-null  float64\n",
      " 4   V4      284807 non-null  float64\n",
      " 5   V5      284807 non-null  float64\n",
      " 6   V6      284807 non-null  float64\n",
      " 7   V7      284807 non-null  float64\n",
      " 8   V8      284807 non-null  float64\n",
      " 9   V9      284807 non-null  float64\n",
      " 10  V10     284807 non-null  float64\n",
      " 11  V11     284807 non-null  float64\n",
      " 12  V12     284807 non-null  float64\n",
      " 13  V13     284807 non-null  float64\n",
      " 14  V14     284807 non-null  float64\n",
      " 15  V15     284807 non-null  float64\n",
      " 16  V16     284807 non-null  float64\n",
      " 17  V17     284807 non-null  float64\n",
      " 18  V18     284807 non-null  float64\n",
      " 19  V19     284807 non-null  float64\n",
      " 20  V20     284807 non-null  float64\n",
      " 21  V21     284807 non-null  float64\n",
      " 22  V22     284807 non-null  float64\n",
      " 23  V23     284807 non-null  float64\n",
      " 24  V24     284807 non-null  float64\n",
      " 25  V25     284807 non-null  float64\n",
      " 26  V26     284807 non-null  float64\n",
      " 27  V27     284807 non-null  float64\n",
      " 28  V28     284807 non-null  float64\n",
      " 29  Amount  284807 non-null  float64\n",
      " 30  Class   284807 non-null  int64  \n",
      "dtypes: float64(30), int64(1)\n",
      "memory usage: 67.4 MB\n"
     ]
    }
   ],
   "source": [
    "# Information about the dataset\n",
    "creditcarddata.info()"
   ]
  },
  {
   "cell_type": "code",
   "execution_count": 25,
   "id": "aa687a79",
   "metadata": {},
   "outputs": [
    {
     "data": {
      "text/plain": [
       "1081"
      ]
     },
     "execution_count": 25,
     "metadata": {},
     "output_type": "execute_result"
    }
   ],
   "source": [
    "# Check how many duplicated values there are\n",
    "creditcarddata.duplicated().sum()"
   ]
  },
  {
   "cell_type": "code",
   "execution_count": 26,
   "id": "5fa83379",
   "metadata": {},
   "outputs": [],
   "source": [
    "# dropping duplicates to avoid misleading information\n",
    "creditcarddata = creditcarddata.drop_duplicates()"
   ]
  },
  {
   "cell_type": "code",
   "execution_count": 27,
   "id": "c368f687",
   "metadata": {},
   "outputs": [
    {
     "data": {
      "text/plain": [
       "0"
      ]
     },
     "execution_count": 27,
     "metadata": {},
     "output_type": "execute_result"
    }
   ],
   "source": [
    "# Now there are no more duplicates\n",
    "creditcarddata.duplicated().sum()"
   ]
  },
  {
   "cell_type": "code",
   "execution_count": 28,
   "id": "ec775206",
   "metadata": {},
   "outputs": [
    {
     "data": {
      "text/html": [
       "<div>\n",
       "<style scoped>\n",
       "    .dataframe tbody tr th:only-of-type {\n",
       "        vertical-align: middle;\n",
       "    }\n",
       "\n",
       "    .dataframe tbody tr th {\n",
       "        vertical-align: top;\n",
       "    }\n",
       "\n",
       "    .dataframe thead th {\n",
       "        text-align: right;\n",
       "    }\n",
       "</style>\n",
       "<table border=\"1\" class=\"dataframe\">\n",
       "  <thead>\n",
       "    <tr style=\"text-align: right;\">\n",
       "      <th></th>\n",
       "      <th>Time</th>\n",
       "      <th>V1</th>\n",
       "      <th>V2</th>\n",
       "      <th>V3</th>\n",
       "      <th>V4</th>\n",
       "      <th>V5</th>\n",
       "      <th>V6</th>\n",
       "      <th>V7</th>\n",
       "      <th>V8</th>\n",
       "      <th>V9</th>\n",
       "      <th>V10</th>\n",
       "      <th>V11</th>\n",
       "      <th>V12</th>\n",
       "      <th>V13</th>\n",
       "      <th>V14</th>\n",
       "      <th>V15</th>\n",
       "      <th>V16</th>\n",
       "      <th>V17</th>\n",
       "      <th>V18</th>\n",
       "      <th>V19</th>\n",
       "      <th>V20</th>\n",
       "      <th>V21</th>\n",
       "      <th>V22</th>\n",
       "      <th>V23</th>\n",
       "      <th>V24</th>\n",
       "      <th>V25</th>\n",
       "      <th>V26</th>\n",
       "      <th>V27</th>\n",
       "      <th>V28</th>\n",
       "      <th>Amount</th>\n",
       "      <th>Class</th>\n",
       "    </tr>\n",
       "  </thead>\n",
       "  <tbody>\n",
       "    <tr>\n",
       "      <th>count</th>\n",
       "      <td>283726.000000</td>\n",
       "      <td>283726.000000</td>\n",
       "      <td>283726.000000</td>\n",
       "      <td>283726.000000</td>\n",
       "      <td>283726.000000</td>\n",
       "      <td>283726.000000</td>\n",
       "      <td>283726.000000</td>\n",
       "      <td>283726.000000</td>\n",
       "      <td>283726.000000</td>\n",
       "      <td>283726.000000</td>\n",
       "      <td>283726.000000</td>\n",
       "      <td>283726.000000</td>\n",
       "      <td>283726.000000</td>\n",
       "      <td>283726.000000</td>\n",
       "      <td>283726.000000</td>\n",
       "      <td>283726.000000</td>\n",
       "      <td>283726.000000</td>\n",
       "      <td>283726.000000</td>\n",
       "      <td>283726.000000</td>\n",
       "      <td>283726.000000</td>\n",
       "      <td>283726.000000</td>\n",
       "      <td>283726.000000</td>\n",
       "      <td>283726.000000</td>\n",
       "      <td>283726.000000</td>\n",
       "      <td>283726.000000</td>\n",
       "      <td>283726.000000</td>\n",
       "      <td>283726.000000</td>\n",
       "      <td>283726.000000</td>\n",
       "      <td>283726.000000</td>\n",
       "      <td>283726.000000</td>\n",
       "      <td>283726.000000</td>\n",
       "    </tr>\n",
       "    <tr>\n",
       "      <th>mean</th>\n",
       "      <td>94811.077600</td>\n",
       "      <td>0.005917</td>\n",
       "      <td>-0.004135</td>\n",
       "      <td>0.001613</td>\n",
       "      <td>-0.002966</td>\n",
       "      <td>0.001828</td>\n",
       "      <td>-0.001139</td>\n",
       "      <td>0.001801</td>\n",
       "      <td>-0.000854</td>\n",
       "      <td>-0.001596</td>\n",
       "      <td>-0.001441</td>\n",
       "      <td>0.000202</td>\n",
       "      <td>-0.000715</td>\n",
       "      <td>0.000603</td>\n",
       "      <td>0.000252</td>\n",
       "      <td>0.001043</td>\n",
       "      <td>0.001162</td>\n",
       "      <td>0.000170</td>\n",
       "      <td>0.001515</td>\n",
       "      <td>-0.000264</td>\n",
       "      <td>0.000187</td>\n",
       "      <td>-0.000371</td>\n",
       "      <td>-0.000015</td>\n",
       "      <td>0.000198</td>\n",
       "      <td>0.000214</td>\n",
       "      <td>-0.000232</td>\n",
       "      <td>0.000149</td>\n",
       "      <td>0.001763</td>\n",
       "      <td>0.000547</td>\n",
       "      <td>88.472687</td>\n",
       "      <td>0.001667</td>\n",
       "    </tr>\n",
       "    <tr>\n",
       "      <th>std</th>\n",
       "      <td>47481.047891</td>\n",
       "      <td>1.948026</td>\n",
       "      <td>1.646703</td>\n",
       "      <td>1.508682</td>\n",
       "      <td>1.414184</td>\n",
       "      <td>1.377008</td>\n",
       "      <td>1.331931</td>\n",
       "      <td>1.227664</td>\n",
       "      <td>1.179054</td>\n",
       "      <td>1.095492</td>\n",
       "      <td>1.076407</td>\n",
       "      <td>1.018720</td>\n",
       "      <td>0.994674</td>\n",
       "      <td>0.995430</td>\n",
       "      <td>0.952215</td>\n",
       "      <td>0.914894</td>\n",
       "      <td>0.873696</td>\n",
       "      <td>0.842507</td>\n",
       "      <td>0.837378</td>\n",
       "      <td>0.813379</td>\n",
       "      <td>0.769984</td>\n",
       "      <td>0.723909</td>\n",
       "      <td>0.724550</td>\n",
       "      <td>0.623702</td>\n",
       "      <td>0.605627</td>\n",
       "      <td>0.521220</td>\n",
       "      <td>0.482053</td>\n",
       "      <td>0.395744</td>\n",
       "      <td>0.328027</td>\n",
       "      <td>250.399437</td>\n",
       "      <td>0.040796</td>\n",
       "    </tr>\n",
       "    <tr>\n",
       "      <th>min</th>\n",
       "      <td>0.000000</td>\n",
       "      <td>-56.407510</td>\n",
       "      <td>-72.715728</td>\n",
       "      <td>-48.325589</td>\n",
       "      <td>-5.683171</td>\n",
       "      <td>-113.743307</td>\n",
       "      <td>-26.160506</td>\n",
       "      <td>-43.557242</td>\n",
       "      <td>-73.216718</td>\n",
       "      <td>-13.434066</td>\n",
       "      <td>-24.588262</td>\n",
       "      <td>-4.797473</td>\n",
       "      <td>-18.683715</td>\n",
       "      <td>-5.791881</td>\n",
       "      <td>-19.214325</td>\n",
       "      <td>-4.498945</td>\n",
       "      <td>-14.129855</td>\n",
       "      <td>-25.162799</td>\n",
       "      <td>-9.498746</td>\n",
       "      <td>-7.213527</td>\n",
       "      <td>-54.497720</td>\n",
       "      <td>-34.830382</td>\n",
       "      <td>-10.933144</td>\n",
       "      <td>-44.807735</td>\n",
       "      <td>-2.836627</td>\n",
       "      <td>-10.295397</td>\n",
       "      <td>-2.604551</td>\n",
       "      <td>-22.565679</td>\n",
       "      <td>-15.430084</td>\n",
       "      <td>0.000000</td>\n",
       "      <td>0.000000</td>\n",
       "    </tr>\n",
       "    <tr>\n",
       "      <th>25%</th>\n",
       "      <td>54204.750000</td>\n",
       "      <td>-0.915951</td>\n",
       "      <td>-0.600321</td>\n",
       "      <td>-0.889682</td>\n",
       "      <td>-0.850134</td>\n",
       "      <td>-0.689830</td>\n",
       "      <td>-0.769031</td>\n",
       "      <td>-0.552509</td>\n",
       "      <td>-0.208828</td>\n",
       "      <td>-0.644221</td>\n",
       "      <td>-0.535578</td>\n",
       "      <td>-0.761649</td>\n",
       "      <td>-0.406198</td>\n",
       "      <td>-0.647862</td>\n",
       "      <td>-0.425732</td>\n",
       "      <td>-0.581452</td>\n",
       "      <td>-0.466860</td>\n",
       "      <td>-0.483928</td>\n",
       "      <td>-0.498014</td>\n",
       "      <td>-0.456289</td>\n",
       "      <td>-0.211469</td>\n",
       "      <td>-0.228305</td>\n",
       "      <td>-0.542700</td>\n",
       "      <td>-0.161703</td>\n",
       "      <td>-0.354453</td>\n",
       "      <td>-0.317485</td>\n",
       "      <td>-0.326763</td>\n",
       "      <td>-0.070641</td>\n",
       "      <td>-0.052818</td>\n",
       "      <td>5.600000</td>\n",
       "      <td>0.000000</td>\n",
       "    </tr>\n",
       "    <tr>\n",
       "      <th>50%</th>\n",
       "      <td>84692.500000</td>\n",
       "      <td>0.020384</td>\n",
       "      <td>0.063949</td>\n",
       "      <td>0.179963</td>\n",
       "      <td>-0.022248</td>\n",
       "      <td>-0.053468</td>\n",
       "      <td>-0.275168</td>\n",
       "      <td>0.040859</td>\n",
       "      <td>0.021898</td>\n",
       "      <td>-0.052596</td>\n",
       "      <td>-0.093237</td>\n",
       "      <td>-0.032306</td>\n",
       "      <td>0.139072</td>\n",
       "      <td>-0.012927</td>\n",
       "      <td>0.050209</td>\n",
       "      <td>0.049299</td>\n",
       "      <td>0.067119</td>\n",
       "      <td>-0.065867</td>\n",
       "      <td>-0.002142</td>\n",
       "      <td>0.003367</td>\n",
       "      <td>-0.062353</td>\n",
       "      <td>-0.029441</td>\n",
       "      <td>0.006675</td>\n",
       "      <td>-0.011159</td>\n",
       "      <td>0.041016</td>\n",
       "      <td>0.016278</td>\n",
       "      <td>-0.052172</td>\n",
       "      <td>0.001479</td>\n",
       "      <td>0.011288</td>\n",
       "      <td>22.000000</td>\n",
       "      <td>0.000000</td>\n",
       "    </tr>\n",
       "    <tr>\n",
       "      <th>75%</th>\n",
       "      <td>139298.000000</td>\n",
       "      <td>1.316068</td>\n",
       "      <td>0.800283</td>\n",
       "      <td>1.026960</td>\n",
       "      <td>0.739647</td>\n",
       "      <td>0.612218</td>\n",
       "      <td>0.396792</td>\n",
       "      <td>0.570474</td>\n",
       "      <td>0.325704</td>\n",
       "      <td>0.595977</td>\n",
       "      <td>0.453619</td>\n",
       "      <td>0.739579</td>\n",
       "      <td>0.616976</td>\n",
       "      <td>0.663178</td>\n",
       "      <td>0.492336</td>\n",
       "      <td>0.650104</td>\n",
       "      <td>0.523512</td>\n",
       "      <td>0.398972</td>\n",
       "      <td>0.501956</td>\n",
       "      <td>0.458508</td>\n",
       "      <td>0.133207</td>\n",
       "      <td>0.186194</td>\n",
       "      <td>0.528245</td>\n",
       "      <td>0.147748</td>\n",
       "      <td>0.439738</td>\n",
       "      <td>0.350667</td>\n",
       "      <td>0.240261</td>\n",
       "      <td>0.091208</td>\n",
       "      <td>0.078276</td>\n",
       "      <td>77.510000</td>\n",
       "      <td>0.000000</td>\n",
       "    </tr>\n",
       "    <tr>\n",
       "      <th>max</th>\n",
       "      <td>172792.000000</td>\n",
       "      <td>2.454930</td>\n",
       "      <td>22.057729</td>\n",
       "      <td>9.382558</td>\n",
       "      <td>16.875344</td>\n",
       "      <td>34.801666</td>\n",
       "      <td>73.301626</td>\n",
       "      <td>120.589494</td>\n",
       "      <td>20.007208</td>\n",
       "      <td>15.594995</td>\n",
       "      <td>23.745136</td>\n",
       "      <td>12.018913</td>\n",
       "      <td>7.848392</td>\n",
       "      <td>7.126883</td>\n",
       "      <td>10.526766</td>\n",
       "      <td>8.877742</td>\n",
       "      <td>17.315112</td>\n",
       "      <td>9.253526</td>\n",
       "      <td>5.041069</td>\n",
       "      <td>5.591971</td>\n",
       "      <td>39.420904</td>\n",
       "      <td>27.202839</td>\n",
       "      <td>10.503090</td>\n",
       "      <td>22.528412</td>\n",
       "      <td>4.584549</td>\n",
       "      <td>7.519589</td>\n",
       "      <td>3.517346</td>\n",
       "      <td>31.612198</td>\n",
       "      <td>33.847808</td>\n",
       "      <td>25691.160000</td>\n",
       "      <td>1.000000</td>\n",
       "    </tr>\n",
       "  </tbody>\n",
       "</table>\n",
       "</div>"
      ],
      "text/plain": [
       "                Time             V1             V2             V3  \\\n",
       "count  283726.000000  283726.000000  283726.000000  283726.000000   \n",
       "mean    94811.077600       0.005917      -0.004135       0.001613   \n",
       "std     47481.047891       1.948026       1.646703       1.508682   \n",
       "min         0.000000     -56.407510     -72.715728     -48.325589   \n",
       "25%     54204.750000      -0.915951      -0.600321      -0.889682   \n",
       "50%     84692.500000       0.020384       0.063949       0.179963   \n",
       "75%    139298.000000       1.316068       0.800283       1.026960   \n",
       "max    172792.000000       2.454930      22.057729       9.382558   \n",
       "\n",
       "                  V4             V5             V6             V7  \\\n",
       "count  283726.000000  283726.000000  283726.000000  283726.000000   \n",
       "mean       -0.002966       0.001828      -0.001139       0.001801   \n",
       "std         1.414184       1.377008       1.331931       1.227664   \n",
       "min        -5.683171    -113.743307     -26.160506     -43.557242   \n",
       "25%        -0.850134      -0.689830      -0.769031      -0.552509   \n",
       "50%        -0.022248      -0.053468      -0.275168       0.040859   \n",
       "75%         0.739647       0.612218       0.396792       0.570474   \n",
       "max        16.875344      34.801666      73.301626     120.589494   \n",
       "\n",
       "                  V8             V9            V10            V11  \\\n",
       "count  283726.000000  283726.000000  283726.000000  283726.000000   \n",
       "mean       -0.000854      -0.001596      -0.001441       0.000202   \n",
       "std         1.179054       1.095492       1.076407       1.018720   \n",
       "min       -73.216718     -13.434066     -24.588262      -4.797473   \n",
       "25%        -0.208828      -0.644221      -0.535578      -0.761649   \n",
       "50%         0.021898      -0.052596      -0.093237      -0.032306   \n",
       "75%         0.325704       0.595977       0.453619       0.739579   \n",
       "max        20.007208      15.594995      23.745136      12.018913   \n",
       "\n",
       "                 V12            V13            V14            V15  \\\n",
       "count  283726.000000  283726.000000  283726.000000  283726.000000   \n",
       "mean       -0.000715       0.000603       0.000252       0.001043   \n",
       "std         0.994674       0.995430       0.952215       0.914894   \n",
       "min       -18.683715      -5.791881     -19.214325      -4.498945   \n",
       "25%        -0.406198      -0.647862      -0.425732      -0.581452   \n",
       "50%         0.139072      -0.012927       0.050209       0.049299   \n",
       "75%         0.616976       0.663178       0.492336       0.650104   \n",
       "max         7.848392       7.126883      10.526766       8.877742   \n",
       "\n",
       "                 V16            V17            V18            V19  \\\n",
       "count  283726.000000  283726.000000  283726.000000  283726.000000   \n",
       "mean        0.001162       0.000170       0.001515      -0.000264   \n",
       "std         0.873696       0.842507       0.837378       0.813379   \n",
       "min       -14.129855     -25.162799      -9.498746      -7.213527   \n",
       "25%        -0.466860      -0.483928      -0.498014      -0.456289   \n",
       "50%         0.067119      -0.065867      -0.002142       0.003367   \n",
       "75%         0.523512       0.398972       0.501956       0.458508   \n",
       "max        17.315112       9.253526       5.041069       5.591971   \n",
       "\n",
       "                 V20            V21            V22            V23  \\\n",
       "count  283726.000000  283726.000000  283726.000000  283726.000000   \n",
       "mean        0.000187      -0.000371      -0.000015       0.000198   \n",
       "std         0.769984       0.723909       0.724550       0.623702   \n",
       "min       -54.497720     -34.830382     -10.933144     -44.807735   \n",
       "25%        -0.211469      -0.228305      -0.542700      -0.161703   \n",
       "50%        -0.062353      -0.029441       0.006675      -0.011159   \n",
       "75%         0.133207       0.186194       0.528245       0.147748   \n",
       "max        39.420904      27.202839      10.503090      22.528412   \n",
       "\n",
       "                 V24            V25            V26            V27  \\\n",
       "count  283726.000000  283726.000000  283726.000000  283726.000000   \n",
       "mean        0.000214      -0.000232       0.000149       0.001763   \n",
       "std         0.605627       0.521220       0.482053       0.395744   \n",
       "min        -2.836627     -10.295397      -2.604551     -22.565679   \n",
       "25%        -0.354453      -0.317485      -0.326763      -0.070641   \n",
       "50%         0.041016       0.016278      -0.052172       0.001479   \n",
       "75%         0.439738       0.350667       0.240261       0.091208   \n",
       "max         4.584549       7.519589       3.517346      31.612198   \n",
       "\n",
       "                 V28         Amount          Class  \n",
       "count  283726.000000  283726.000000  283726.000000  \n",
       "mean        0.000547      88.472687       0.001667  \n",
       "std         0.328027     250.399437       0.040796  \n",
       "min       -15.430084       0.000000       0.000000  \n",
       "25%        -0.052818       5.600000       0.000000  \n",
       "50%         0.011288      22.000000       0.000000  \n",
       "75%         0.078276      77.510000       0.000000  \n",
       "max        33.847808   25691.160000       1.000000  "
      ]
     },
     "execution_count": 28,
     "metadata": {},
     "output_type": "execute_result"
    }
   ],
   "source": [
    "# Descriptive statistics\n",
    "creditcarddata.describe(include='all')"
   ]
  },
  {
   "cell_type": "code",
   "execution_count": 29,
   "id": "2e9f1df6",
   "metadata": {},
   "outputs": [],
   "source": [
    "# Scale Amount and Time\n",
    "standard_scaler = StandardScaler()\n",
    "\n",
    "creditcarddata['scaled_amt'] = \\\n",
    "    standard_scaler.fit_transform(creditcarddata['Amount'].values.reshape(-1,1))\n",
    "creditcarddata['scaled_time'] = \\\n",
    "    standard_scaler.fit_transform(creditcarddata['Time'].values.reshape(-1,1))\n",
    "\n",
    "creditcarddata.drop(['Amount', 'Time'], axis=1, inplace=True)"
   ]
  },
  {
   "cell_type": "code",
   "execution_count": 19,
   "id": "29757f01",
   "metadata": {},
   "outputs": [
    {
     "data": {
      "image/png": "[encoded data removed]",
      "text/plain": [
       "<Figure size 720x432 with 2 Axes>"
      ]
     },
     "metadata": {
      "needs_background": "light"
     },
     "output_type": "display_data"
    }
   ],
   "source": [
    "# Correlation Matrix\n",
    "cor = creditcarddata.corr()\n",
    "f = plt.figure(figsize=(10,6))\n",
    "plt.matshow(cor, fignum=f.number)\n",
    "plt.xticks(range(len(cor.columns)), cor.columns, fontsize=7,rotation = 90)\n",
    "plt.yticks(range(len(cor.columns)), cor.columns, fontsize=7)\n",
    "cb = plt.colorbar()\n",
    "cb.ax.tick_params(labelsize = 7)\n",
    "plt.title('Correlation Matrix', fontsize = 9)\n",
    "plt.show()"
   ]
  },
  {
   "cell_type": "code",
   "execution_count": 13,
   "id": "af51aa15",
   "metadata": {},
   "outputs": [
    {
     "data": {
      "text/plain": [
       "Class\n",
       "0    283253\n",
       "1       473\n",
       "dtype: int64"
      ]
     },
     "execution_count": 13,
     "metadata": {},
     "output_type": "execute_result"
    },
    {
     "data": {
      "image/png": "[encoded data removed]",
      "text/plain": [
       "<Figure size 432x288 with 1 Axes>"
      ]
     },
     "metadata": {
      "needs_background": "light"
     },
     "output_type": "display_data"
    }
   ],
   "source": [
    "# There is a class imbalance since there are very few fraud transactions\n",
    "sns.countplot(x = creditcarddata['Class'], data=creditcarddata)\n",
    "creditcarddata.groupby(['Class']).size()"
   ]
  },
  {
   "cell_type": "markdown",
   "id": "554d5119",
   "metadata": {},
   "source": [
    "## Adjusting Imbalanced Feature\n",
    "Will use SMOTE (Synthetic Minority Oversampling Technique) which takes the minority class and synthesizes new examples. We will also undersample the majority class to balance out the data.\n",
    "\n",
    "We are performing SMOTE only on the training data because we do not want the synthetic examples to be perfectly copied over to the test data, which would artificially boost our model scores.\n"
   ]
  },
  {
   "cell_type": "code",
   "execution_count": 14,
   "id": "31bdbf83",
   "metadata": {},
   "outputs": [],
   "source": [
    "# Splitting our data between target variable as y and \\\n",
    "# not target variables as X\n",
    "X = creditcarddata.drop(['Class'], axis=1)\n",
    "y = creditcarddata['Class']"
   ]
  },
  {
   "cell_type": "code",
   "execution_count": 15,
   "id": "0f7906b8",
   "metadata": {},
   "outputs": [],
   "source": [
    "# Training data is 80% of the data and \\\n",
    "# Testing data is 20% of the data\n",
    "X_train, X_test, y_train, y_test = \\\n",
    "    train_test_split(X, y, test_size = 0.2, random_state = 0)"
   ]
  },
  {
   "cell_type": "code",
   "execution_count": 16,
   "id": "16253d95",
   "metadata": {},
   "outputs": [
    {
     "name": "stdout",
     "output_type": "stream",
     "text": [
      "X training data:  (226980, 30) ;  y training data:  (226980,) ;  X testing data:  (56746, 30) ;  y testing data:  (56746,)\n"
     ]
    }
   ],
   "source": [
    "print('X training data: ', X_train.shape,'; ', \\\n",
    "    'y training data: ', y_train.shape,'; ', \\\n",
    "        'X testing data: ', X_test.shape,'; ', \\\n",
    "            'y testing data: ', y_test.shape)"
   ]
  },
  {
   "cell_type": "code",
   "execution_count": 17,
   "id": "b8f41598",
   "metadata": {},
   "outputs": [
    {
     "name": "stdout",
     "output_type": "stream",
     "text": [
      "Before Counter({0: 226594, 1: 386})\n",
      "After Counter({0: 45318, 1: 22659})\n"
     ]
    }
   ],
   "source": [
    "# rebalancing target variable only on training data \\\n",
    "# because want to avoid artificially boosting model scores\n",
    "counter = Counter(y_train)\n",
    "print('Before', counter)\n",
    "over = SMOTE(sampling_strategy=0.1)\n",
    "under = RandomUnderSampler(sampling_strategy=0.5)\n",
    "steps = [('o', over), ('u', under)]\n",
    "pipeline = Pipeline(steps=steps)\n",
    "X_train, y_train = pipeline.fit_resample(X_train, y_train)\n",
    "counter = Counter(y_train)\n",
    "print('After',counter)"
   ]
  },
  {
   "cell_type": "markdown",
   "id": "e8753b6a",
   "metadata": {},
   "source": [
    "## Modelling"
   ]
  },
  {
   "cell_type": "markdown",
   "id": "a19ea07d",
   "metadata": {},
   "source": [
    "For modelling, I will use XGBoost, MLPClassifier, and Random Forest, and see which model fits best with the data we have. \n",
    "\n",
    "### Note about the different scores\n",
    "\n",
    "Accuracy: The ratio of the total number of correctly predicted samples by the total number of samples.\n",
    "\n",
    "Precision: The ratio of true positives by the sum of true positives and false positives.\n",
    "\n",
    "Recall: The ratio of true positives by the sum of true positives and false negatives.\n",
    "\n",
    "F1 Score: Harmonic mean of precision and recall.\n",
    "\n",
    "Having a False Negative would be bad as it's predicted to not have a fraudulent transaction, but it actually is. Thus, we will mainly focus on the Recall score, but we want a good balance between all scores because having too many False Positives will cause customers to be flagged unnecessarily for fraud when there was no fraud.\n"
   ]
  },
  {
   "cell_type": "code",
   "execution_count": 18,
   "id": "58eccf26",
   "metadata": {},
   "outputs": [
    {
     "name": "stdout",
     "output_type": "stream",
     "text": [
      "[[56597    62]\n",
      " [   13    74]]\n"
     ]
    }
   ],
   "source": [
    "# XGBoost\n",
    "xgb_model = xgb.XGBClassifier(random_state=0, objective='binary:logistic')\n",
    "xgb_model.fit(X_train, y_train)\n",
    "\n",
    "y_pred_xgb = xgb_model.predict(X_test)\n",
    "\n",
    "print(confusion_matrix(y_test, y_pred_xgb))"
   ]
  },
  {
   "cell_type": "code",
   "execution_count": 19,
   "id": "9ab88820",
   "metadata": {},
   "outputs": [
    {
     "name": "stdout",
     "output_type": "stream",
     "text": [
      "Accuracy: 0.9986783209389208\n",
      "Precision: 0.5441176470588235\n",
      "Recall Score: 0.8505747126436781\n",
      "F1 Score: 0.663677130044843\n"
     ]
    }
   ],
   "source": [
    "print(f\"Accuracy: {accuracy_score(y_test, y_pred_xgb)}\")\n",
    "print(f\"Precision: {precision_score(y_test, y_pred_xgb)}\")\n",
    "print(f\"Recall Score: {recall_score(y_test, y_pred_xgb)}\")\n",
    "print(f\"F1 Score: {f1_score(y_test, y_pred_xgb)}\")"
   ]
  },
  {
   "cell_type": "code",
   "execution_count": 26,
   "id": "8e0a164f",
   "metadata": {},
   "outputs": [
    {
     "name": "stdout",
     "output_type": "stream",
     "text": [
      "[[56589    70]\n",
      " [   15    72]]\n"
     ]
    }
   ],
   "source": [
    "# MLPClassifier\n",
    "mlp = MLPClassifier()\n",
    "mlp.fit(X_train, y_train)\n",
    "y_pred_mlp = mlp.predict(X_test)\n",
    "print(confusion_matrix(y_test, y_pred_mlp))"
   ]
  },
  {
   "cell_type": "code",
   "execution_count": 27,
   "id": "a629a854",
   "metadata": {},
   "outputs": [
    {
     "name": "stdout",
     "output_type": "stream",
     "text": [
      "Accuracy: 0.9985020970641102\n",
      "Precision: 0.5070422535211268\n",
      "Recall Score: 0.8275862068965517\n",
      "F1 Score: 0.62882096069869\n"
     ]
    }
   ],
   "source": [
    "print(f\"Accuracy: {accuracy_score(y_test, y_pred_mlp)}\")\n",
    "print(f\"Precision: {precision_score(y_test, y_pred_mlp)}\")\n",
    "print(f\"Recall Score: {recall_score(y_test, y_pred_mlp)}\")\n",
    "print(f\"F1 Score: {f1_score(y_test, y_pred_mlp)}\")"
   ]
  },
  {
   "cell_type": "code",
   "execution_count": 47,
   "id": "1029a59d",
   "metadata": {},
   "outputs": [
    {
     "name": "stdout",
     "output_type": "stream",
     "text": [
      "[[56627    32]\n",
      " [   13    74]]\n"
     ]
    }
   ],
   "source": [
    "# random forest\n",
    "clf_rf = RandomForestClassifier(random_state=0)\n",
    "\n",
    "clf_rf.fit(X_train, y_train)\n",
    "\n",
    "y_pred_rf = clf_rf.predict(X_test)\n",
    "\n",
    "print(confusion_matrix(y_test, y_pred_rf))"
   ]
  },
  {
   "cell_type": "code",
   "execution_count": 23,
   "id": "00f0357e",
   "metadata": {},
   "outputs": [
    {
     "name": "stdout",
     "output_type": "stream",
     "text": [
      "Accuracy: 0.9992069925633524\n",
      "Precision: 0.6981132075471698\n",
      "Recall Score: 0.8505747126436781\n",
      "F1 Score: 0.7668393782383419\n"
     ]
    }
   ],
   "source": [
    "print(f\"Accuracy: {accuracy_score(y_test, y_pred_rf)}\")\n",
    "print(f\"Precision: {precision_score(y_test, y_pred_rf)}\")\n",
    "print(f\"Recall Score: {recall_score(y_test, y_pred_rf)}\")\n",
    "print(f\"F1 Score: {f1_score(y_test, y_pred_rf)}\")"
   ]
  },
  {
   "cell_type": "code",
   "execution_count": 1,
   "id": "db238f24",
   "metadata": {},
   "outputs": [
    {
     "data": {
      "text/plain": [
       "'\\nclf_rf_gs = RandomForestClassifier(random_state=0)\\nparams_rf = {\\n    \\'max_depth\\': [10, 50, 70, None],\\n    \\'n_estimators\\': [100, 200, 500],\\n    \\'min_samples_leaf\\': [1, 3, 5],\\n    \\'min_samples_split\\': [2, 5, 10]\\n}\\n\\nrf_model_gs = GridSearchCV(clf_rf_gs, param_grid=params_rf, cv = 5, scoring = \"recall\", n_jobs=-1)\\nrf_model_gs.fit(X_train, y_train)\\n# min_samples_leaf: 2, n_estimators: 200, max_depth: 50, min_samples_split: 6\\nprint(rf_model_gs.best_params_)\\n# best parameters: max_depth: 50, n_estimators: 200, min_samples_leaf: 1, min_samples_split: 2\\n'"
      ]
     },
     "execution_count": 1,
     "metadata": {},
     "output_type": "execute_result"
    }
   ],
   "source": [
    "# Grid Search for random forest\n",
    "'''\n",
    "clf_rf_gs = RandomForestClassifier(random_state=0)\n",
    "params_rf = {\n",
    "    'max_depth': [10, 50, 70, None],\n",
    "    'n_estimators': [100, 200, 500],\n",
    "    'min_samples_leaf': [1, 3, 5],\n",
    "    'min_samples_split': [2, 5, 10]\n",
    "}\n",
    "\n",
    "rf_model_gs = GridSearchCV(clf_rf_gs, param_grid=params_rf, \\\n",
    "    cv = 5, scoring = \"recall\", n_jobs=-1)\n",
    "rf_model_gs.fit(X_train, y_train)\n",
    "print(rf_model_gs.best_params_)\n",
    "# best parameters: max_depth: 50, n_estimators: 200, min_samples_leaf: 1, \\\n",
    "# min_samples_split: 2\n",
    "'''"
   ]
  },
  {
   "cell_type": "code",
   "execution_count": 52,
   "id": "5fd8a64f",
   "metadata": {},
   "outputs": [
    {
     "name": "stdout",
     "output_type": "stream",
     "text": [
      "[[56628    31]\n",
      " [   13    74]]\n"
     ]
    }
   ],
   "source": [
    "clf_rf_best = RandomForestClassifier(random_state=0, max_depth=50, \\\n",
    "    n_estimators=200, min_samples_leaf=1, min_samples_split=2)\n",
    "\n",
    "clf_rf_best.fit(X_train, y_train)\n",
    "\n",
    "y_pred_rf_best = clf_rf_best.predict(X_test)\n",
    "\n",
    "print(confusion_matrix(y_test, y_pred_rf_best))"
   ]
  },
  {
   "cell_type": "code",
   "execution_count": 53,
   "id": "df1c004e",
   "metadata": {},
   "outputs": [
    {
     "name": "stdout",
     "output_type": "stream",
     "text": [
      "Accuracy: 0.9992246149508336\n",
      "Precision: 0.7047619047619048\n",
      "Recall Score: 0.8505747126436781\n",
      "F1 Score: 0.7708333333333334\n"
     ]
    }
   ],
   "source": [
    "print(f\"Accuracy: {accuracy_score(y_test, y_pred_rf_best)}\")\n",
    "print(f\"Precision: {precision_score(y_test, y_pred_rf_best)}\")\n",
    "print(f\"Recall Score: {recall_score(y_test, y_pred_rf_best)}\")\n",
    "print(f\"F1 Score: {f1_score(y_test, y_pred_rf_best)}\")"
   ]
  },
  {
   "cell_type": "code",
   "execution_count": 54,
   "id": "77d1e5e6",
   "metadata": {},
   "outputs": [
    {
     "name": "stderr",
     "output_type": "stream",
     "text": [
      "/Library/Frameworks/Python.framework/Versions/3.10/lib/python3.10/site-packages/sklearn/utils/deprecation.py:87: FutureWarning: Function plot_confusion_matrix is deprecated; Function `plot_confusion_matrix` is deprecated in 1.0 and will be removed in 1.2. Use one of the class methods: ConfusionMatrixDisplay.from_predictions or ConfusionMatrixDisplay.from_estimator.\n",
      "  warnings.warn(msg, category=FutureWarning)\n"
     ]
    },
    {
     "data": {
      "image/png": "[encoded data removed]",
      "text/plain": [
       "<Figure size 432x288 with 2 Axes>"
      ]
     },
     "metadata": {
      "needs_background": "light"
     },
     "output_type": "display_data"
    }
   ],
   "source": [
    "plot_confusion_matrix(clf_rf_best, X_test, y_test, cmap = 'Blues')\n",
    "plt.title('Random Forest Confusion Matrix', fontsize = 14)\n",
    "plt.show()"
   ]
  },
  {
   "cell_type": "markdown",
   "id": "028d3288",
   "metadata": {},
   "source": [
    "# Results\n",
    "\n",
    "After running the initial models with default parameters for all three, I decided to proceed with Random Forest since it provided the best initial result in terms of the balance of all scores. Although the recall score is already about 85.1 percent, I wanted to see if overall the scores could be improved. \n",
    "\n",
    "I proceeded with grid search, where I searched for the best parameters for this random forest model. The parameters I did a grid search for are max_depth, n_estimators, min_samples_leaf, and min_samples_split. After performing a grid search, I found the best parameters to be 50 for max depth, 200 for n_estimators, 1 for min_samples_leaf, and 2 for min_samples_split. With this, accuracy is about 99.9%, the recall score is about 85.1%, the precision score is about 70.4%, and the f1-score is about 77.1%. In this case, we are finding a healthy balance between predicting false negatives and false positives.\n",
    "\n",
    "With this model, we can prevent many customers from experiencing fraud transactions and also prevent customers from being flagged for fraud unnecessarily. "
   ]
  }
 ],
 "metadata": {
  "kernelspec": {
   "display_name": "Python 3.10.5 64-bit",
   "language": "python",
   "name": "python3"
  },
  "language_info": {
   "codemirror_mode": {
    "name": "ipython",
    "version": 3
   },
   "file_extension": ".py",
   "mimetype": "text/x-python",
   "name": "python",
   "nbconvert_exporter": "python",
   "pygments_lexer": "ipython3",
   "version": "3.10.5"
  },
  "vscode": {
   "interpreter": {
    "hash": "aee8b7b246df8f9039afb4144a1f6fd8d2ca17a180786b69acc140d282b71a49"
   }
  }
 },
 "nbformat": 4,
 "nbformat_minor": 5
}
